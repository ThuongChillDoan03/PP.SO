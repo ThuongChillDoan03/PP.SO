{
 "cells": [
  {
   "cell_type": "code",
   "execution_count": 1,
   "metadata": {},
   "outputs": [],
   "source": [
    "###_______________Tính giá trị w_(n+1)(x)____________________###\n",
    "##__Input: x_0, x_1,..............,x_n\n",
    "##__Output: w_(n+1)(x)\n",
    "\n",
    "import numpy as np\n",
    "import pandas as pd\n",
    "import matplotlib.pyplot as plt\n",
    "\n",
    "# Hàm hoocner nhân bổ sung\n",
    "def hoocnerAddMulti(poly, x_i):\n",
    "    n = len(poly)\n",
    "    if n == 0:\n",
    "        poly.append(1)\n",
    "        poly.append(-x_i)\n",
    "    elif n == 1:\n",
    "        poly.append(-poly[0]*x_i)\n",
    "    else:\n",
    "        poly.append(0)\n",
    "        temp = poly.copy()\n",
    "        for i in range(1, len(poly)):\n",
    "            poly[i] = poly[i] - x_i * temp[i - 1]\n",
    "        temp.clear()\n",
    "    return poly   \n",
    "\n"
   ]
  },
  {
   "cell_type": "code",
   "execution_count": 3,
   "metadata": {},
   "outputs": [
    {
     "data": {
      "text/plain": [
       "[1, 2, 3, 4, 5, 6, 7, 8, 9, 10]"
      ]
     },
     "execution_count": 3,
     "metadata": {},
     "output_type": "execute_result"
    }
   ],
   "source": [
    "Data = pd.read_excel(\"Hoocner_data.xlsx\")\n",
    "x = Data['x'].to_list()\n",
    "x"
   ]
  },
  {
   "cell_type": "code",
   "execution_count": 7,
   "metadata": {},
   "outputs": [],
   "source": [
    "poly = []\n",
    "for i in x:\n",
    "    poly = hoocnerAddMulti(poly, i)\n",
    "# Hệ số của đa thức w(x)\n"
   ]
  },
  {
   "cell_type": "code",
   "execution_count": 8,
   "metadata": {},
   "outputs": [
    {
     "name": "stdout",
     "output_type": "stream",
     "text": [
      "1x^10\n",
      "-55x^9\n",
      "1320x^8\n",
      "-18150x^7\n",
      "157773x^6\n",
      "-902055x^5\n",
      "3416930x^4\n",
      "-8409500x^3\n",
      "12753576x^2\n",
      "-10628640x^1\n",
      "3628800x^0\n"
     ]
    }
   ],
   "source": [
    "for i in range(len(poly)):\n",
    "    print(\"{0}x^{1}\".format(poly[i], len(poly) - 1 - i))"
   ]
  }
 ],
 "metadata": {
  "kernelspec": {
   "display_name": "Python 3",
   "language": "python",
   "name": "python3"
  },
  "language_info": {
   "codemirror_mode": {
    "name": "ipython",
    "version": 3
   },
   "file_extension": ".py",
   "mimetype": "text/x-python",
   "name": "python",
   "nbconvert_exporter": "python",
   "pygments_lexer": "ipython3",
   "version": "3.10.6"
  }
 },
 "nbformat": 4,
 "nbformat_minor": 2
}
