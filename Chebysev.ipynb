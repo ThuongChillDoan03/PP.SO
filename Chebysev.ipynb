{
 "cells": [
  {
   "cell_type": "code",
   "execution_count": 1,
   "metadata": {},
   "outputs": [],
   "source": [
    "import numpy as np\n",
    "\n",
    "def hamSo(x):\n",
    "    return x**2*np.exp(-2*x**2) + 3 * np.cos(x)**2 - 5*np.exp(x)\n",
    "\n",
    "# n bậc của đa thức => có n + 1 mốc\n",
    "def cacMocToiUu(n, a, b):\n",
    "    x = []\n",
    "    for i in range(n + 1):\n",
    "        x.append(1/2 *((b - a) * np.cos((2*i + 1)*np.pi/(2 * (n + 1))) + a + b))\n",
    "    return [np.array(x), hamSo(np.array(x))]"
   ]
  },
  {
   "cell_type": "code",
   "execution_count": 3,
   "metadata": {},
   "outputs": [
    {
     "name": "stdout",
     "output_type": "stream",
     "text": [
      "x: [4.97537668 4.78201305 4.41421356 3.907981   3.31286893 2.68713107\n",
      " 2.092019   1.58578644 1.21798695 1.02462332]\n",
      "y: [-723.81404986 -596.70725271 -412.82529767 -247.43452228 -134.40617092\n",
      "  -71.02546451  -39.76174894  -24.39852415  -16.46735783  -12.99223608]\n"
     ]
    }
   ],
   "source": [
    "a = 1\n",
    "b = 5\n",
    "n = 9\n",
    "## [a,b] là khoảng xác định, n là số mốc tối ưu\n",
    "\n",
    "listMoc = cacMocToiUu(n, a, b)\n",
    "print(\"x: {0}\\ny: {1}\".format(listMoc[0], listMoc[1]))"
   ]
  },
  {
   "cell_type": "code",
   "execution_count": 7,
   "metadata": {},
   "outputs": [
    {
     "name": "stdout",
     "output_type": "stream",
     "text": [
      "[0.16927454, -1.3189345399999999, 4.61971229, -9.013088499999999, 12.085809089999998]\n",
      "[ 0.16927454 -1.31893454  4.61971229 -9.0130885 ]\n",
      "12.085809089999998\n"
     ]
    }
   ],
   "source": [
    "import numpy as np\n",
    "import pandas as pd\n",
    "import matplotlib.pyplot as plt\n",
    "\n",
    "def hoocne_quatient(a, x):\n",
    "    # chia gia tri cua da thuc P(x) cho (x - x_0)\n",
    "    # tra ve b và b_0 trong do:\n",
    "    # b la he so cua da thuc sau khi chia\n",
    "    # b_0 la phan du va la ket qua cua P(x_0)\n",
    "    y = list()\n",
    "    y.append(a[0])\n",
    "    for i in range(len(a) - 1):\n",
    "        y.append(y[i] * x + a[i + 1])\n",
    "    b = np.array(y[:-1])\n",
    "    b_0 = np.array(y[-1])\n",
    "    return b, b_0, y\n",
    "\n",
    "a = np.array([ 0.16927454, -1.14966  ,   3.30077775, -4.39337621 , 3.07272059])\n",
    "\n",
    "b, b_0, y = hoocne_quatient(a, -1)\n",
    "print(y)\n",
    "print(b)\n",
    "print(b_0)"
   ]
  }
 ],
 "metadata": {
  "kernelspec": {
   "display_name": "Python 3",
   "language": "python",
   "name": "python3"
  },
  "language_info": {
   "codemirror_mode": {
    "name": "ipython",
    "version": 3
   },
   "file_extension": ".py",
   "mimetype": "text/x-python",
   "name": "python",
   "nbconvert_exporter": "python",
   "pygments_lexer": "ipython3",
   "version": "3.10.6"
  }
 },
 "nbformat": 4,
 "nbformat_minor": 2
}
