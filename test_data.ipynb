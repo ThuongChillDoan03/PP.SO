{
 "cells": [
  {
   "cell_type": "code",
   "execution_count": 3,
   "metadata": {},
   "outputs": [
    {
     "name": "stdout",
     "output_type": "stream",
     "text": [
      "[310.0, 320.0, 330.0, 340.0, 350.0, 360.0, 370.0]\n",
      "[2.4914, 2.5052, 2.5185, 2.5315, 2.5441, 2.5563, 2.5687]\n",
      "<class 'list'>\n"
     ]
    }
   ],
   "source": [
    "\n",
    "f = open(\"vd1.txt\", \"r\")\n",
    "x = []\n",
    "y = []\n",
    "for line in f:\n",
    "    val1, val2 = line.split()\n",
    "    x.append(float(val1))\n",
    "    y.append(float(val2))\n",
    "\n",
    "print(x)\n",
    "print(y)\n",
    "print(type(x))"
   ]
  },
  {
   "cell_type": "code",
   "execution_count": 11,
   "metadata": {},
   "outputs": [
    {
     "name": "stdout",
     "output_type": "stream",
     "text": [
      "320.0\n",
      "2.5052\n"
     ]
    }
   ],
   "source": [
    "import pandas as pd\n",
    "import numpy as np\n",
    "f = pd.read_excel(\"Data_Gauss1.xlsx\")\n",
    "b = np.asarray(f.astype(np.float64))\n",
    "b = b.T\n",
    "x = b[0]\n",
    "y = b[1]\n",
    "print(x[1])\n",
    "print(y[1])"
   ]
  }
 ],
 "metadata": {
  "kernelspec": {
   "display_name": "Python 3",
   "language": "python",
   "name": "python3"
  },
  "language_info": {
   "codemirror_mode": {
    "name": "ipython",
    "version": 3
   },
   "file_extension": ".py",
   "mimetype": "text/x-python",
   "name": "python",
   "nbconvert_exporter": "python",
   "pygments_lexer": "ipython3",
   "version": "3.10.6"
  }
 },
 "nbformat": 4,
 "nbformat_minor": 2
}
